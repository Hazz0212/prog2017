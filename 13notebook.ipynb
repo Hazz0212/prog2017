{
 "cells": [
  {
   "cell_type": "code",
   "execution_count": 1,
   "metadata": {
    "collapsed": false
   },
   "outputs": [
    {
     "data": {
      "text/plain": [
       "(0.00,0.00)"
      ]
     },
     "execution_count": 1,
     "metadata": {},
     "output_type": "execute_result"
    }
   ],
   "source": [
    "import turtle\n",
    "turtle=turtle.Turtle()\n",
    "turtle.position()"
   ]
  },
  {
   "cell_type": "code",
   "execution_count": 2,
   "metadata": {
    "collapsed": false
   },
   "outputs": [
    {
     "name": "stdout",
     "output_type": "stream",
     "text": [
      "hello\n"
     ]
    }
   ],
   "source": [
    "import turtle\n",
    "t = turtle.Turtle()\n",
    "\n",
    "t.home()\n",
    "t.clear()\n",
    "\n",
    "for j in range(4):\n",
    "  for i in range(4):\n",
    "    t.forward(200)\n",
    "    t.left(90)\n",
    "  t.left(-90)\n",
    "\n",
    "print('hello')"
   ]
  },
  {
   "cell_type": "code",
   "execution_count": 3,
   "metadata": {
    "collapsed": true
   },
   "outputs": [],
   "source": [
    "def circle(x, y, r = 150):\n",
    "  t.up()\n",
    "  t.home()\n",
    "  t.forward(x)\n",
    "  t.left(90)\n",
    "  t.forward(y)\n",
    "  t.forward(r)\n",
    "  t.left(90)\n",
    "  t.down()\n",
    "  t.circle(r)\n",
    "\n",
    "t.home()\n",
    "t.clear()\n",
    "\n",
    "circle(100, -100)\n",
    "circle(100, 100, 50)\n",
    "circle(-100, -100, 50)\n",
    "circle(-100, 100, 50)"
   ]
  },
  {
   "cell_type": "code",
   "execution_count": 4,
   "metadata": {
    "collapsed": true
   },
   "outputs": [],
   "source": [
    "def center_circle():\n",
    "  t.penup()\n",
    "  t.forward(200)\n",
    "  t.left(90)\n",
    "  t.pendown()\n",
    "  t.circle(200)\n",
    "  t.left(90)\n",
    "  t.penup()\n",
    "  t.forward(200)\n",
    "  t.pendown()\n",
    "\n",
    "center_circle()"
   ]
  },
  {
   "cell_type": "code",
   "execution_count": 5,
   "metadata": {
    "collapsed": false
   },
   "outputs": [
    {
     "name": "stdout",
     "output_type": "stream",
     "text": [
      "hello\n"
     ]
    }
   ],
   "source": [
    "import turtle\n",
    "t = turtle.Turtle()\n",
    "\n",
    "t.home()\n",
    "t.clear()\n",
    "\n",
    "for j in range(2):\n",
    "  for i in range(4):\n",
    "    t.forward(100)\n",
    "    t.left(90)\n",
    "  \n",
    "  t.left(90)\n",
    "  t.forward(120)\n",
    "  \n",
    "  for i in range(6):\n",
    "    t.forward(100)\n",
    "    t.forward(-100)\n",
    "    t.left(-90)\n",
    "    t.forward(20)\n",
    "    t.left(90)\n",
    "  \n",
    "  t.forward(-120)\n",
    "  t.left(-90)\n",
    "  t.forward(-240)\n",
    "\n",
    "print('hello')"
   ]
  },
  {
   "cell_type": "code",
   "execution_count": 2,
   "metadata": {
    "collapsed": false
   },
   "outputs": [
    {
     "data": {
      "text/plain": [
       "500500"
      ]
     },
     "execution_count": 2,
     "metadata": {},
     "output_type": "execute_result"
    }
   ],
   "source": [
    "def total(n):\n",
    "    s=0\n",
    "    for x in range(1,n+1):\n",
    "        s +=x\n",
    "    return s\n",
    "total(100)\n",
    "\n",
    "total(10)\n",
    "\n",
    "total(1000)"
   ]
  },
  {
   "cell_type": "code",
   "execution_count": null,
   "metadata": {
    "collapsed": true
   },
   "outputs": [],
   "source": []
  }
 ],
 "metadata": {
  "kernelspec": {
   "display_name": "Python 3",
   "language": "python",
   "name": "python3"
  },
  "language_info": {
   "codemirror_mode": {
    "name": "ipython",
    "version": 3
   },
   "file_extension": ".py",
   "mimetype": "text/x-python",
   "name": "python",
   "nbconvert_exporter": "python",
   "pygments_lexer": "ipython3",
   "version": "3.6.0"
  }
 },
 "nbformat": 4,
 "nbformat_minor": 2
}
